{
 "cells": [
  {
   "cell_type": "code",
   "execution_count": 3,
   "id": "97259b68-295f-49cc-956b-ccaf349704e9",
   "metadata": {},
   "outputs": [],
   "source": [
    "l = [11,'hi',25,True,23.15,'pws',False,18,'SSS',32.23]"
   ]
  },
  {
   "cell_type": "code",
   "execution_count": 4,
   "id": "5432f54a-c748-40fe-b8a0-b5114262efad",
   "metadata": {},
   "outputs": [
    {
     "name": "stdout",
     "output_type": "stream",
     "text": [
      "11\n",
      "<class 'int'>\n",
      "hi\n",
      "<class 'str'>\n",
      "25\n",
      "<class 'int'>\n",
      "True\n",
      "<class 'bool'>\n",
      "23.15\n",
      "<class 'float'>\n",
      "pws\n",
      "<class 'str'>\n",
      "False\n",
      "<class 'bool'>\n",
      "18\n",
      "<class 'int'>\n",
      "SSS\n",
      "<class 'str'>\n",
      "32.23\n",
      "<class 'float'>\n"
     ]
    }
   ],
   "source": [
    "for n in l :\n",
    "    print(n)\n",
    "    print(type(n))"
   ]
  },
  {
   "cell_type": "code",
   "execution_count": null,
   "id": "5fd8624c-f576-4db3-bbc0-d2e91922d4cf",
   "metadata": {},
   "outputs": [],
   "source": []
  }
 ],
 "metadata": {
  "kernelspec": {
   "display_name": "Python 3 (ipykernel)",
   "language": "python",
   "name": "python3"
  },
  "language_info": {
   "codemirror_mode": {
    "name": "ipython",
    "version": 3
   },
   "file_extension": ".py",
   "mimetype": "text/x-python",
   "name": "python",
   "nbconvert_exporter": "python",
   "pygments_lexer": "ipython3",
   "version": "3.10.8"
  }
 },
 "nbformat": 4,
 "nbformat_minor": 5
}
