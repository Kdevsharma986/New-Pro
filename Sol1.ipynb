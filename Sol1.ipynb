{
 "cells": [
  {
   "cell_type": "code",
   "execution_count": 1,
   "id": "f16c1bef-c1a7-4494-98e2-70b8cbdcb2a9",
   "metadata": {},
   "outputs": [],
   "source": [
    "s = 'Deven'"
   ]
  },
  {
   "cell_type": "code",
   "execution_count": 2,
   "id": "43870ae8-6727-41d4-8696-f362a8ff4596",
   "metadata": {},
   "outputs": [
    {
     "name": "stdout",
     "output_type": "stream",
     "text": [
      "Deven\n"
     ]
    }
   ],
   "source": [
    "print(s)"
   ]
  },
  {
   "cell_type": "code",
   "execution_count": 3,
   "id": "624fd684-27d0-431e-8238-fe011a8ed61d",
   "metadata": {},
   "outputs": [],
   "source": [
    "l = [2,3,'PWS',33.21,True]"
   ]
  },
  {
   "cell_type": "code",
   "execution_count": 4,
   "id": "e92cc73f-0a7f-42fd-a350-fd3cf6221f75",
   "metadata": {},
   "outputs": [
    {
     "name": "stdout",
     "output_type": "stream",
     "text": [
      "[2, 3, 'PWS', 33.21, True]\n"
     ]
    }
   ],
   "source": [
    "print(l)"
   ]
  },
  {
   "cell_type": "code",
   "execution_count": 6,
   "id": "b4884ac8-2b41-485e-9241-d8e33479ca99",
   "metadata": {},
   "outputs": [],
   "source": [
    "f = 54.25"
   ]
  },
  {
   "cell_type": "code",
   "execution_count": 7,
   "id": "d20e3a30-f2e6-41d3-9daa-fe0ef9a74e23",
   "metadata": {},
   "outputs": [
    {
     "name": "stdout",
     "output_type": "stream",
     "text": [
      "54.25\n"
     ]
    }
   ],
   "source": [
    "print(f)"
   ]
  },
  {
   "cell_type": "code",
   "execution_count": 8,
   "id": "830ab326-2613-4836-98d0-2b607351db22",
   "metadata": {},
   "outputs": [],
   "source": [
    "t = (1,'SSS',11.58,False)"
   ]
  },
  {
   "cell_type": "code",
   "execution_count": 9,
   "id": "ef11f46e-8b3c-434a-a358-42d442f85258",
   "metadata": {},
   "outputs": [
    {
     "name": "stdout",
     "output_type": "stream",
     "text": [
      "(1, 'SSS', 11.58, False)\n"
     ]
    }
   ],
   "source": [
    "print(t)"
   ]
  },
  {
   "cell_type": "code",
   "execution_count": null,
   "id": "e6846001-cfa9-422e-ae17-e025e0718c09",
   "metadata": {},
   "outputs": [],
   "source": []
  }
 ],
 "metadata": {
  "kernelspec": {
   "display_name": "Python 3 (ipykernel)",
   "language": "python",
   "name": "python3"
  },
  "language_info": {
   "codemirror_mode": {
    "name": "ipython",
    "version": 3
   },
   "file_extension": ".py",
   "mimetype": "text/x-python",
   "name": "python",
   "nbconvert_exporter": "python",
   "pygments_lexer": "ipython3",
   "version": "3.10.8"
  }
 },
 "nbformat": 4,
 "nbformat_minor": 5
}
