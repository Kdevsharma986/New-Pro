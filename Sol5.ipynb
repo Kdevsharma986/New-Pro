{
 "cells": [
  {
   "cell_type": "code",
   "execution_count": 4,
   "id": "8e96a211-8634-4098-81b3-927e139ec95f",
   "metadata": {},
   "outputs": [
    {
     "name": "stdout",
     "output_type": "stream",
     "text": [
      "56 is purely divisible by 8\n",
      "56 can be divisible by 8 for given times\n",
      "7\n"
     ]
    }
   ],
   "source": [
    "a = 56\n",
    "b = 8\n",
    "\n",
    "while a%b == 0:\n",
    "    print(a,'is purely divisible by',b)\n",
    "    print(a,'can be divisible by',b,'for given times')\n",
    "    a = a//b\n",
    "    print(a)"
   ]
  },
  {
   "cell_type": "code",
   "execution_count": null,
   "id": "ae73b1bf-1c4a-41b0-869f-72488cd8b32f",
   "metadata": {},
   "outputs": [],
   "source": []
  }
 ],
 "metadata": {
  "kernelspec": {
   "display_name": "Python 3 (ipykernel)",
   "language": "python",
   "name": "python3"
  },
  "language_info": {
   "codemirror_mode": {
    "name": "ipython",
    "version": 3
   },
   "file_extension": ".py",
   "mimetype": "text/x-python",
   "name": "python",
   "nbconvert_exporter": "python",
   "pygments_lexer": "ipython3",
   "version": "3.10.8"
  }
 },
 "nbformat": 4,
 "nbformat_minor": 5
}
